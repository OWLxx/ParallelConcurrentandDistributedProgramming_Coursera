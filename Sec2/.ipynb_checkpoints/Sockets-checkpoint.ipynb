{
 "cells": [
  {
   "cell_type": "markdown",
   "metadata": {},
   "source": [
    "# 1. [Sockets](https://docs.oracle.com/javase/tutorial/networking/sockets/)\n",
    "java.net.Socket <br>\n",
    "\n",
    "```java\n",
    "String hostName = args[0];\n",
    "int portNumber = Integer.parseInt(args[1]);\n",
    "\n",
    "try (\n",
    "    Socket echoSocket = new Socket(hostName, portNumber);   // name of computer and the port number you want to connect\n",
    "    // PrintWriter: Prints formatted representations of objects to a text-output stream\n",
    "    // BufferedReadeer: Reads text from a character-input stream, buffering characters so as to provide for the efficient reading of characters, arrays, and lines.\n",
    "    PrintWriter out =\n",
    "        new PrintWriter(echoSocket.getOutputStream(), true);\n",
    "    BufferedReader in =\n",
    "        new BufferedReader(\n",
    "            new InputStreamReader(echoSocket.getInputStream()));\n",
    "    BufferedReader stdIn =\n",
    "        new BufferedReader(\n",
    "            new InputStreamReader(System.in))\n",
    ")\n",
    "```"
   ]
  },
  {
   "cell_type": "markdown",
   "metadata": {},
   "source": [
    "# 2. [RMI](https://docs.oracle.com/javase/tutorial/rmi/index.html)\n",
    "The Java Remote Method Invocation (RMI) system allows an object running in one Java virtual machine to invoke methods on an object running in another Java virtual machine. RMI provides for remote communication between programs written in the Java programming language.\n",
    "\n"
   ]
  },
  {
   "cell_type": "markdown",
   "metadata": {},
   "source": [
    "# 3. [MulticastSocket](https://docs.oracle.com/javase/7/docs/api/java/net/MulticastSocket.html)\n",
    "Join and leave group\n",
    "```java\n",
    "// join a Multicast group and send the group salutations\n",
    " ...\n",
    " String msg = \"Hello\";\n",
    " InetAddress group = InetAddress.getByName(\"228.5.6.7\");\n",
    " MulticastSocket s = new MulticastSocket(6789);\n",
    " s.joinGroup(group);\n",
    " DatagramPacket hi = new DatagramPacket(msg.getBytes(), msg.length(),\n",
    "                             group, 6789);\n",
    " s.send(hi);\n",
    " // get their responses!\n",
    " byte[] buf = new byte[1000];\n",
    " DatagramPacket recv = new DatagramPacket(buf, buf.length);\n",
    " s.receive(recv);\n",
    " ...\n",
    " // OK, I'm done talking - leave the group...\n",
    " s.leaveGroup(group);\n",
    " \n",
    "```"
   ]
  },
  {
   "cell_type": "markdown",
   "metadata": {},
   "source": [
    "# 4. [Apache Kafka](https://en.wikipedia.org/wiki/Apache_Kafka)"
   ]
  },
  {
   "cell_type": "code",
   "execution_count": null,
   "metadata": {
    "collapsed": true
   },
   "outputs": [],
   "source": []
  }
 ],
 "metadata": {
  "kernelspec": {
   "display_name": "Python 3",
   "language": "python",
   "name": "python3"
  },
  "language_info": {
   "codemirror_mode": {
    "name": "ipython",
    "version": 3
   },
   "file_extension": ".py",
   "mimetype": "text/x-python",
   "name": "python",
   "nbconvert_exporter": "python",
   "pygments_lexer": "ipython3",
   "version": "3.6.3"
  }
 },
 "nbformat": 4,
 "nbformat_minor": 2
}
