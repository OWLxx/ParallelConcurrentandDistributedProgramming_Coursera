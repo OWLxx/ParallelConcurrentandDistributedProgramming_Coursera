{
 "cells": [
  {
   "cell_type": "markdown",
   "metadata": {},
   "source": [
    "# Sec0- Parallel Programming\n",
    "1. Fork-Join  extends RecursiveAction/ RecursiveTasks     compute function <br>\n",
    "    import java.util.concurrent.ForkJoinPool;<br>\n",
    "    import java.util.concurrent.RecursiveTask;<br>\n",
    "    \n",
    "2. Streams\n",
    "    import java.util.stream\n",
    "    ```\n",
    "    public String mostCommonFirstNameOfInactiveStudentsParallelStream(\n",
    "            final Student[] studentArray) {\n",
    "        // throw new UnsupportedOperationException();\n",
    "        String retVal = Stream.of(studentArray)\n",
    "                .parallel()\n",
    "                .filter(x -> !x.checkIsCurrent())\n",
    "                .collect(Collectors.groupingBy(Student::getFirstName, Collectors.counting()))\n",
    "                .entrySet()   // Returns a Set view of the mappings contained in this map  // comparingByKey()  getKey()  getValue()  setValue() Equals()\n",
    "                .stream()\n",
    "                .max(Map.Entry.comparingByValue())\n",
    "                .get().getKey();\n",
    "\n",
    "        return retVal;\n",
    "        }\n",
    "    ```\n",
    "3. Phase (Barrier)\n",
    "    import java.util.concurrent.Phaser\n",
    "    ```\n",
    "    Phaser()\n",
    "    Creates a new phaser with no initially registered parties, no parent, and initial phase number 0.\n",
    "    Phaser(int parties)\n",
    "        Creates a new phaser with the given number of registered unarrived parties, no parent, and initial phase number 0.\n",
    "    arrive()\n",
    "        Arrives at this phaser, without waiting for others to arrive.\n",
    "    arriveAndAwaitAdvance()  (barrier)\n",
    "        Arrives at this phaser and awaits others.\n",
    "    arriveAndDeregister()\n",
    "        Arrives at this phaser and deregisters from it without waiting for others to arrive.\n",
    "    register()\n",
    "        Adds a new unarrived party to this phaser.\n",
    "    isTerminated()\n",
    "        Returns true if this phaser has been terminated.\n",
    "    bulkRegister(int parties)\n",
    "        Adds the given number of new unarrived parties to this phaser.\n",
    "    ```"
   ]
  },
  {
   "cell_type": "markdown",
   "metadata": {},
   "source": [
    "# Sec1- Concurrent Programming"
   ]
  },
  {
   "cell_type": "markdown",
   "metadata": {},
   "source": [
    "# Sec2- Distributed Programming"
   ]
  },
  {
   "cell_type": "code",
   "execution_count": null,
   "metadata": {
    "collapsed": true
   },
   "outputs": [],
   "source": []
  }
 ],
 "metadata": {
  "kernelspec": {
   "display_name": "Python 3",
   "language": "python",
   "name": "python3"
  },
  "language_info": {
   "codemirror_mode": {
    "name": "ipython",
    "version": 3
   },
   "file_extension": ".py",
   "mimetype": "text/x-python",
   "name": "python",
   "nbconvert_exporter": "python",
   "pygments_lexer": "ipython3",
   "version": "3.6.3"
  }
 },
 "nbformat": 4,
 "nbformat_minor": 2
}
