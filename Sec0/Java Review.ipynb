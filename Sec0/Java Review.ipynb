{
 "cells": [
  {
   "cell_type": "markdown",
   "metadata": {},
   "source": [
    "# Java Review\n",
    "### 1. Overloading (same class)\n",
    "```java\n",
    "public class SimpleLocation{\n",
    "    public SimpleLocation(){         \n",
    "        this.latitude = 32.9;\n",
    "        this.longitude = 123.1;\n",
    "    }\n",
    "    public SimpleLocation(double lat, double lon){\n",
    "        this.latitude = lat;\n",
    "        this.longitude = lon;\n",
    "    }\n",
    "}\n",
    "class DisplayOverloading\n",
    "{\n",
    "    public void disp(char c)\n",
    "    {\n",
    "         System.out.println(c);\n",
    "    }\n",
    "    public void disp(char c, int num)  \n",
    "    {\n",
    "         System.out.println(c + \" \"+num);\n",
    "    }\n",
    "}\n",
    "```"
   ]
  },
  {
   "cell_type": "markdown",
   "metadata": {},
   "source": [
    "### 2. Overwritting (subclass)\n",
    "```java\n",
    "public class Vehicle{\n",
    "  double basePrice = 20000;\n",
    "  //constructor defined\n",
    "  public double getPrice(){\n",
    "     return basePrice;\n",
    "   }\n",
    "}\n",
    "\n",
    "public class Truck extends Vehicle{       // extends means inherit from\n",
    "  double truckPrice = 14000;\n",
    "  //constructor defined\n",
    "  public double getPrice(){\n",
    "     return truckPrice;\n",
    "   }\n",
    "}\n",
    "```"
   ]
  },
  {
   "cell_type": "markdown",
   "metadata": {},
   "source": [
    "### 3. Abstract vs Implement      (extend a class, implements a interface)\n",
    "``` java\n",
    "///I will give you an example first:\n",
    "public interface LoginAuth{\n",
    "   public String encryptPassword(String pass);\n",
    "   public void checkDBforUser();\n",
    "}\n",
    "//Now suppose you have 3 databases in your application. Then each and every implementation for that database needs to define the //above 2 methods:\n",
    "\n",
    "public class DBMySQL implements LoginAuth{\n",
    "          // Needs to implement both methods\n",
    "}\n",
    "public class DBOracle implements LoginAuth{\n",
    "          // Needs to implement both methods\n",
    "}\n",
    "public class DBAbc implements LoginAuth{\n",
    "          // Needs to implement both methods\n",
    "}\n",
    "//But what if encryptPassword() is not database dependent, and it's the same for each class? Then the above would not be a good //approach.\n",
    "\n",
    "//Instead, consider this approach:\n",
    "\n",
    "public abstract class LoginAuth{\n",
    "   public String encryptPassword(String pass){\n",
    "            // Implement the same default behavior here \n",
    "            // that is shared by all subclasses.\n",
    "   }\n",
    "\n",
    "   // Each subclass needs to provide their own implementation of this only:\n",
    "   public abstract void checkDBforUser();\n",
    "}\n",
    "//Now in each child class, we only need to implement one method - the method that is database dependent.\n",
    "```\n",
    "implements an interface\n",
    "```java\n",
    "public interface ExampleInterface{\n",
    "    public void doAction();\n",
    "    public String doThis(int number);\n",
    " }\n",
    "\n",
    " public class sub implements ExampleInterface{\n",
    "     public void doAction(){\n",
    "       //specify what must happen\n",
    "     }\n",
    "\n",
    "     public String doThis(int number){\n",
    "       //specfiy what must happen\n",
    "     }\n",
    " }\n",
    "```"
   ]
  },
  {
   "cell_type": "markdown",
   "metadata": {},
   "source": [
    "#### 3.5 Polymorphism\n",
    "Polymorphism is the ability of an object to take on many forms. The most common use of polymorphism in OOP occurs when a parent class reference is used to refer to a child class object."
   ]
  },
  {
   "attachments": {
    "image.png": {
     "image/png": "[encoded data removed]"
    }
   },
   "cell_type": "markdown",
   "metadata": {},
   "source": [
    "### 4. Public, Protected, Private\n",
    "![image.png](attachment:image.png)"
   ]
  },
  {
   "cell_type": "code",
   "execution_count": null,
   "metadata": {
    "collapsed": true
   },
   "outputs": [],
   "source": []
  }
 ],
 "metadata": {
  "kernelspec": {
   "display_name": "Python 3",
   "language": "python",
   "name": "python3"
  },
  "language_info": {
   "codemirror_mode": {
    "name": "ipython",
    "version": 3
   },
   "file_extension": ".py",
   "mimetype": "text/x-python",
   "name": "python",
   "nbconvert_exporter": "python",
   "pygments_lexer": "ipython3",
   "version": "3.6.3"
  }
 },
 "nbformat": 4,
 "nbformat_minor": 2
}
