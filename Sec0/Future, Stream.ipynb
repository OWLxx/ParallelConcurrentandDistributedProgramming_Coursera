{
 "cells": [
  {
   "cell_type": "markdown",
   "metadata": {},
   "source": [
    "# 1. Future\n",
    "In computer science, future, promise, delay, and deferred refer to constructs used for synchronizing program execution in some concurrent programming languages. They describe an object that acts as a proxy for a result that is initially unknown, usually because the computation of its value is yet incomplete.\n"
   ]
  },
  {
   "cell_type": "markdown",
   "metadata": {},
   "source": [
    "# 2. Streams\n",
    "java.util.stream\n",
    "\n",
    "## 2.1 Collectors  (-> is lambda expression in Java)\n",
    "java.util.stream.Collectors\n",
    "\n",
    "```java\n",
    "\n",
    "     // Accumulate names into a List\n",
    "     List<String> list = people.stream().map(Person::getName).collect(Collectors.toList());\n",
    "\n",
    "     // Accumulate names into a TreeSet\n",
    "     Set<String> set = people.stream().map(Person::getName).collect(Collectors.toCollection(TreeSet::new));\n",
    "\n",
    "     // Convert elements to strings and concatenate them, separated by commas\n",
    "     String joined = things.stream()\n",
    "                           .map(Object::toString)\n",
    "                           .collect(Collectors.joining(\", \"));\n",
    "\n",
    "     // Compute sum of salaries of employee\n",
    "     int total = employees.stream()\n",
    "                          .collect(Collectors.summingInt(Employee::getSalary)));\n",
    "\n",
    "     // Group employees by department\n",
    "     Map<Department, List<Employee>> byDept\n",
    "         = employees.stream()\n",
    "                    .collect(Collectors.groupingBy(Employee::getDepartment));\n",
    "\n",
    "     // Compute sum of salaries by department\n",
    "     Map<Department, Integer> totalByDept\n",
    "         = employees.stream()\n",
    "                    .collect(Collectors.groupingBy(Employee::getDepartment,\n",
    "                                                   Collectors.summingInt(Employee::getSalary)));\n",
    "\n",
    "     // Partition students into passing and failing\n",
    "     Map<Boolean, List<Student>> passingFailing =\n",
    "         students.stream()\n",
    "                 .collect(Collectors.partitioningBy(s -> s.getGrade() >= PASS_THRESHOLD));\n",
    "```"
   ]
  },
  {
   "cell_type": "markdown",
   "metadata": {},
   "source": [
    "### Collectors Methods:\n",
    "    averagingDouble\n",
    "    averagingInt\n",
    "    averagingLong\n",
    "    counting\n",
    "    groupingBy\n",
    "    joining\n",
    "    mapping\n",
    "    maxBy\n",
    "    minBy\n",
    "    partitioningBy\n",
    "    reducing\n",
    "    toCollection\n",
    "    toConcurrentMap\n",
    "    toList\n",
    "    toMap\n",
    "    toSet\n"
   ]
  },
  {
   "cell_type": "markdown",
   "metadata": {},
   "source": [
    "## 2.2 streams operations\n",
    "    .filter\n",
    "    .map\n",
    "    .reduce\n",
    "    .find\n",
    "    .match\n",
    "    .sorted\n",
    "    .collect\n",
    "    .filter(Predicate) Takes a predicate (java.util.function.Predicate) as an argument and returns a stream including all elements                      that match the given predicate\n",
    "    .distinct   Returns a stream with unique elements (according to the implementation of equals for a stream element)\n",
    "    .limit(n)   Returns a stream that is no longer than the given size n\n",
    "    .skip(n)    Returns a stream with the first n number of elements discarded \n",
    "    .anyMatch\n",
    "    .allMatch\n",
    "    .noneMatch\n",
    "    .sum\n",
    "    .mapToInt\n",
    "    .mapToDouble\n",
    "    .mapToLong\n",
    "    .range              exclusive\n",
    "    .rangeClosed        inclusive\n",
    "    .count\n",
    "    .getAsDouble\n",
    "\n",
    "## Examples\n",
    "``` java\n",
    "public int countNumberOfFailedStudentsOlderThan20ParallelStream(\n",
    "            final Student[] studentArray) {\n",
    "        return (int) Stream.of(studentArray).parallel()\n",
    "                .filter(s -> !s.checkIsCurrent() && s.getAge() > 20 && s.getGrade() < 65)\n",
    "                .count();\n",
    "    }\n",
    "    \n",
    "public String mostCommonFirstNameOfInactiveStudentsParallelStream(\n",
    "            final Student[] studentArray) {\n",
    "        // throw new UnsupportedOperationException();\n",
    "    \tString retVal = Stream.of(studentArray)\n",
    "    \t\t\t.parallel()\n",
    "    \t\t\t.filter(x -> !x.checkIsCurrent())\n",
    "    \t\t\t.collect(Collectors.groupingBy(Student::getFirstName, Collectors.counting()))\n",
    "                .entrySet()   // Returns a Set view of the mappings contained in this map  // comparingByKey()  getKey()  getValue()  setValue() Equals()\n",
    "                .stream()\n",
    "                .max(Map.Entry.comparingByValue())\n",
    "                .get().getKey();\n",
    "    \t\n",
    "    \treturn retVal;\n",
    "        }\n",
    "        \n",
    " public double averageAgeOfEnrolledStudentsParallelStream(\n",
    "            final Student[] studentArray) {\n",
    "        // throw new UnsupportedOperationException();\n",
    "        double retVal = Stream.of(studentArray)\n",
    "        \t\t.parallel()\n",
    "        \t\t.filter(s -> s.checkIsCurrent())\n",
    "        \t\t.mapToDouble(a -> a.getAge())\n",
    "        \t\t.average()\n",
    "        \t\t.getAsDouble();\n",
    "        \n",
    "        return retVal;\n",
    "    }\n",
    "```"
   ]
  },
  {
   "cell_type": "markdown",
   "metadata": {},
   "source": [
    "**groupingBy(Function<? super T,? extends K> classifier, Collector<? super T,A,D> downstream)**\n",
    "\n",
    "Returns a Collector implementing a cascaded \"group by\" operation on input elements of type T, grouping elements according to a classification function, and then performing a reduction operation on the values associated with a given key using the specified downstream Collector."
   ]
  },
  {
   "cell_type": "markdown",
   "metadata": {},
   "source": [
    "```\n",
    "This code snippet shows you how to loop or iterate a Map or HashMap in Java.\n",
    "\n",
    "Map<String, String> map = new HashMap<String, String>();\n",
    "map.put(\"1\", \"Jan\");\n",
    "map.put(\"2\", \"Feb\");\n",
    "map.put(\"3\", \"Mar\");\n",
    "\n",
    "//loop a Map\n",
    "for (Map.Entry<String, String> entry : map.entrySet()) {\n",
    "\tSystem.out.println(\"Key : \" + entry.getKey() + \" Value : \" + entry.getValue());\n",
    "}\n",
    "\n",
    "//Java 8 only, forEach and Lambda\n",
    "map.forEach((k,v)->System.out.println(\"Key : \" + k + \" Value : \" + v));\n",
    "Output\n",
    "\n",
    "Key : 1 Value :Jan\n",
    "Key : 2 Value :Feb\n",
    "Key : 3 Value :Mar\n",
    "\n",
    "Key : 1 Value :Jan\n",
    "Key : 2 Value :Feb\n",
    "Key : 3 Value :Mar\n",
    "```"
   ]
  },
  {
   "cell_type": "markdown",
   "metadata": {
    "collapsed": true
   },
   "source": [
    "https://docs.oracle.com/javase/tutorial/collections/streams/parallelism.html#executing_streams_in_parallel"
   ]
  },
  {
   "cell_type": "code",
   "execution_count": null,
   "metadata": {
    "collapsed": true
   },
   "outputs": [],
   "source": []
  }
 ],
 "metadata": {
  "kernelspec": {
   "display_name": "Python 3",
   "language": "python",
   "name": "python3"
  },
  "language_info": {
   "codemirror_mode": {
    "name": "ipython",
    "version": 3
   },
   "file_extension": ".py",
   "mimetype": "text/x-python",
   "name": "python",
   "nbconvert_exporter": "python",
   "pygments_lexer": "ipython3",
   "version": "3.6.3"
  }
 },
 "nbformat": 4,
 "nbformat_minor": 2
}
