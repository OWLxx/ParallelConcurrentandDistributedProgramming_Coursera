{
 "cells": [
  {
   "cell_type": "markdown",
   "metadata": {},
   "source": [
    "### 1. Structured and unstructured lock\n",
    "> Structured lock supports nested locking paradigms <br>\n",
    "> always blocks a thread at sync point \n",
    "    \n",
    "    \n",
    "    \n",
    ">Unstructured lock supports nested locking paradigms and \"hand-over-hand\" locking <br>\n",
    ">provide api to perform other tasks"
   ]
  },
  {
   "cell_type": "markdown",
   "metadata": {},
   "source": [
    "### 2. Deadlock and livelock\n",
    "\n",
    "<h2>Deadlock</h2>  \n",
    "two or more threads are blocked forever, waiting for each other\n",
    "<div id=\"PageContent\">\n",
    "\n",
    "\n",
    "<h2>Starvation</h2>\n",
    "<p><i>Starvation</i> describes a situation where a thread is unable to gain regular access to shared resources and is unable to make progress. This happens when shared resources are made unavailable for long periods by \"greedy\" threads. For example, suppose an object provides a synchronized method that often takes a long time to return. If one thread invokes this method frequently, other threads that also need frequent synchronized access to the same object will often be blocked.</p>\n",
    "<h2>Livelock</h2>\n",
    "<p>A thread often acts in response to the action of another thread. If the other thread's action is also a response to the action of another thread, then <i>livelock</i> may result. As with deadlock, livelocked threads are unable to make further progress. However, the threads are not blocked — they are simply too busy responding to each other to resume work. This is comparable to two people attempting to pass each other in a corridor: Alphonse moves to his left to let Gaston pass, while Gaston moves to his right to let Alphonse pass. Seeing that they are still blocking each other, Alphone moves to his right, while Gaston moves to his left. They're still blocking each other, so...</p>\n",
    "\n",
    "\n",
    "        </div>"
   ]
  },
  {
   "cell_type": "markdown",
   "metadata": {},
   "source": [
    "# 3. [Intrinsic Locks and Synchronization](https://docs.oracle.com/javase/tutorial/essential/concurrency/locksync.html)\n",
    "\n",
    "```java\n",
    "To make a method synchronized, simply add the synchronized keyword to its declaration:\n",
    "\n",
    "public class SynchronizedCounter {\n",
    "    private int c = 0;\n",
    "\n",
    "    public synchronized void increment() {\n",
    "        c++;\n",
    "    }\n",
    "\n",
    "    public synchronized void decrement() {\n",
    "        c--;\n",
    "    }\n",
    "\n",
    "    public synchronized int value() {\n",
    "        return c;\n",
    "    }\n",
    "```"
   ]
  },
  {
   "cell_type": "markdown",
   "metadata": {},
   "source": [
    "# 4. [Lock object](https://docs.oracle.com/javase/tutorial/essential/concurrency/newlocks.html)\n",
    "\n",
    "[Lock Interface](https://docs.oracle.com/javase/7/docs/api/java/util/concurrent/locks/Lock.html)\n",
    "\n",
    "\n",
    "import java.util.concurrent.locks.ReentrantLock;\n",
    "import java.util.concurrent.locks.ReentrantReadWriteLock;\n",
    "\n",
    "```\n",
    "private final ReentrantLock lock = new ReentrantLock();\n",
    "private final ReentrantReadWriteLock readWriteLock = new ReentrantReadWriteLock();\n",
    "\n",
    "readWriteLock.writeLock().lock();\n",
    "readWriteLock.readLock().lock();\n",
    "\n",
    "\n",
    "Lock l = ...;\n",
    "     l.lock();\n",
    "     try {\n",
    "         // access the resource protected by this lock\n",
    "     } finally {\n",
    "         l.unlock();\n",
    "     }\n",
    "```"
   ]
  },
  {
   "cell_type": "markdown",
   "metadata": {},
   "source": [
    "## 5. Isolated (PCDP package)\n",
    "```java\n",
    "public void issueTransfer(final int amount, final Account src,\n",
    "            final Account dst) {\n",
    "\n",
    "    \tisolated(src, dst,() -> {\n",
    "            src.performTransfer(amount, dst);\n",
    "        });\n",
    "```"
   ]
  },
  {
   "cell_type": "markdown",
   "metadata": {},
   "source": [
    "# 6. [Atomic Variable](https://docs.oracle.com/javase/tutorial/essential/concurrency/atomicvars.html)\n",
    "\n",
    "java.util.concurrent.atomic\n",
    "\n",
    "```java\n",
    "class Counter {\n",
    "    private int c = 0;\n",
    "\n",
    "    public void increment() {\n",
    "        c++;\n",
    "    }\n",
    "\n",
    "    public void decrement() {\n",
    "        c--;\n",
    "    }\n",
    "\n",
    "    public int value() {\n",
    "        return c;\n",
    "    }\n",
    "\n",
    "}\n",
    "\n",
    "class SynchronizedCounter {\n",
    "    private int c = 0;\n",
    "\n",
    "    public synchronized void increment() {\n",
    "        c++;\n",
    "    }\n",
    "\n",
    "    public synchronized void decrement() {\n",
    "        c--;\n",
    "    }\n",
    "\n",
    "    public synchronized int value() {\n",
    "        return c;\n",
    "    }\n",
    "\n",
    "}\n",
    "\n",
    "import java.util.concurrent.atomic.AtomicInteger;\n",
    "\n",
    "class AtomicCounter {\n",
    "    private AtomicInteger c = new AtomicInteger(0);\n",
    "\n",
    "    public void increment() {\n",
    "        c.incrementAndGet();\n",
    "    }\n",
    "\n",
    "    public void decrement() {\n",
    "        c.decrementAndGet();\n",
    "    }\n",
    "\n",
    "    public int value() {\n",
    "        return c.get();\n",
    "    }\n",
    "\n",
    "}\n",
    "\n",
    "\n",
    "```"
   ]
  },
  {
   "cell_type": "code",
   "execution_count": null,
   "metadata": {
    "collapsed": true
   },
   "outputs": [],
   "source": []
  }
 ],
 "metadata": {
  "kernelspec": {
   "display_name": "Python 3",
   "language": "python",
   "name": "python3"
  },
  "language_info": {
   "codemirror_mode": {
    "name": "ipython",
    "version": 3
   },
   "file_extension": ".py",
   "mimetype": "text/x-python",
   "name": "python",
   "nbconvert_exporter": "python",
   "pygments_lexer": "ipython3",
   "version": "3.6.3"
  }
 },
 "nbformat": 4,
 "nbformat_minor": 2
}
